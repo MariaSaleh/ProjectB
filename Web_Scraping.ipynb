{
 "cells": [
  {
   "cell_type": "code",
   "execution_count": 1,
   "metadata": {},
   "outputs": [],
   "source": [
    "import pandas as pd\n",
    "import re\n",
    "from bs4 import BeautifulSoup as bs\n",
    "from urllib.request import urlopen as uo"
   ]
  },
  {
   "cell_type": "code",
   "execution_count": 2,
   "metadata": {},
   "outputs": [],
   "source": [
    "def href_title(tag):\n",
    "    return tag.has_attr('title') and tag.has_attr('href')"
   ]
  },
  {
   "cell_type": "code",
   "execution_count": 3,
   "metadata": {},
   "outputs": [],
   "source": [
    "my_url = 'https://en.wikipedia.org/wiki/Template:COVID-19_pandemic_data'\n",
    "uClient = uo(my_url)\n",
    "uHTML = uClient.read()\n",
    "uClient.close()\n",
    "uSoup = bs(uHTML, \"html.parser\")\n",
    "containers = uSoup.find_all(\"div\",{\"id\":\"covid19-container\"})\n",
    "tbody = containers[0].table.tbody\n",
    "trs = tbody.find_all(\"tr\",{})"
   ]
  },
  {
   "cell_type": "code",
   "execution_count": 4,
   "metadata": {},
   "outputs": [],
   "source": [
    "filename = \"data.csv\"\n",
    "f = open(filename, \"w\")\n",
    "headers = \"country, cases, deaths, recovery, ref\\n\"\n",
    "f.write(headers)\n",
    "for tr in trs:\n",
    "    #print(tr)\n",
    "    titles = tr.find_all(href_title)\n",
    "    if(len(titles)==0):\n",
    "        continue\n",
    "    country = titles[0].get_text()\n",
    "    f.write(country)\n",
    "    tds = tr.find_all(\"td\")\n",
    "    for td in tds:\n",
    "        num = td.get_text()\n",
    "        renum = re.sub(\"\\n\", \"\", re.sub(\",\", \"\", num))\n",
    "        f.write(\", \" + renum)\n",
    "    f.write(\"\\n\")\n",
    "f.close()"
   ]
  },
  {
   "cell_type": "code",
   "execution_count": null,
   "metadata": {},
   "outputs": [],
   "source": []
  },
  {
   "cell_type": "code",
   "execution_count": null,
   "metadata": {},
   "outputs": [],
   "source": []
  }
 ],
 "metadata": {
  "kernelspec": {
   "display_name": "Python 3",
   "language": "python",
   "name": "python3"
  },
  "language_info": {
   "codemirror_mode": {
    "name": "ipython",
    "version": 3
   },
   "file_extension": ".py",
   "mimetype": "text/x-python",
   "name": "python",
   "nbconvert_exporter": "python",
   "pygments_lexer": "ipython3",
   "version": "3.8.3"
  }
 },
 "nbformat": 4,
 "nbformat_minor": 4
}
