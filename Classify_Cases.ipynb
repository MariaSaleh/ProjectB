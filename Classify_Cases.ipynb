{
 "cells": [
  {
   "cell_type": "code",
   "execution_count": 3,
   "metadata": {},
   "outputs": [],
   "source": [
    "import import_ipynb\n",
    "import Basic_Analysis as ba\n",
    "import numpy as np\n",
    "import pandas as pd\n",
    "from sklearn.neighbors import NearestNeighbors "
   ]
  },
  {
   "cell_type": "code",
   "execution_count": 27,
   "metadata": {
    "scrolled": true
   },
   "outputs": [
    {
     "name": "stdout",
     "output_type": "stream",
     "text": [
      "[[1.0], [2.0], [3.0], [4.0], [5.0], [4.5], [5.8], [3.5]]\n",
      "[[0.2 0.3]]\n",
      "[[3 7]]\n",
      "3\n",
      "4_\n",
      "7\n",
      "3.5_\n",
      "7.5\n"
     ]
    }
   ],
   "source": [
    "file_path = 'sample_data.xlsx'\n",
    "file_path2 = 'latest/all_daily.csv'\n",
    "date_range_dict = {'2020-05-01':152}\n",
    "df = ba.DataParser(file_path2, date_range_dict,incubation_duration = 0, _attr_date = 'date',regions={'Argentina':[]}, \\\n",
    "                 attr_extract={'Confirmed':['max']})\n",
    "df_tmp =  df[['Confirmed_max']]\n",
    "# np = df_tmp.to_numpy()\n",
    "#np1 =  np.array([[1],[2], [3], [4], [5], [4.5], [5.8], [3.5]])\n",
    "\n",
    "\n",
    "d = {'date':['1_', '2_', '3_', '4_', '5_', '4.5_', '5.8_', '3.5_'], 'average':[1, 2, 3, 4, 5, 4.5, 5.8, 3.5], 'value':[4, 3, 6, 10, 9, 2, 11, 5]}\n",
    "df = pd.DataFrame(data=d)\n",
    "\n",
    "# for more than one column do only df['average'].to_numpy()\n",
    "np2 = list(map(lambda el:[el], df['average'].to_numpy()))\n",
    "print(np2)\n",
    "\n",
    "neigh = NearestNeighbors(n_neighbors=2)\n",
    "neigh.fit(np1)\n",
    "x, y = neigh.kneighbors([[3.8]])\n",
    "print(x)\n",
    "print(y)\n",
    "\n",
    "sum = 0\n",
    "for y_ in y[0]:\n",
    "    print(y_)\n",
    "    print(df.loc[y_, 'date'])\n",
    "    sum += df.loc[y_, 'value']\n",
    "\n",
    "print(sum/2)"
   ]
  },
  {
   "cell_type": "code",
   "execution_count": null,
   "metadata": {},
   "outputs": [],
   "source": []
  }
 ],
 "metadata": {
  "kernelspec": {
   "display_name": "Python 3",
   "language": "python",
   "name": "python3"
  },
  "language_info": {
   "codemirror_mode": {
    "name": "ipython",
    "version": 3
   },
   "file_extension": ".py",
   "mimetype": "text/x-python",
   "name": "python",
   "nbconvert_exporter": "python",
   "pygments_lexer": "ipython3",
   "version": "3.8.3"
  }
 },
 "nbformat": 4,
 "nbformat_minor": 4
}
