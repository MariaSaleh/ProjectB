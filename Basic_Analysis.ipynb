{
 "cells": [
  {
   "cell_type": "code",
   "execution_count": 116,
   "metadata": {},
   "outputs": [],
   "source": [
    "import pandas as pd\n",
    "import datetime\n",
    "from datetime import timedelta\n",
    "import numpy as np\n",
    "import re\n",
    "import logging"
   ]
  },
  {
   "cell_type": "markdown",
   "metadata": {},
   "source": [
    "# Helper Functions"
   ]
  },
  {
   "cell_type": "code",
   "execution_count": 2,
   "metadata": {},
   "outputs": [
    {
     "data": {
      "text/plain": [
       "['2020-03-26', '2020-02-15', '2020-02-14', '2020-03-27']"
      ]
     },
     "execution_count": 2,
     "metadata": {},
     "output_type": "execute_result"
    }
   ],
   "source": [
    "def to_dates_list(dates_dictionary):\n",
    "    '''\n",
    "    to_dates_list takes a dictionary with the following format:\n",
    "    { 'date_as_string': number of days as integer,...}\n",
    "    returns a list with the range of dates of each item in the dictionary + the num of days \n",
    "    '''\n",
    "    dates_list = []\n",
    "    for date, date_range in dates_dictionary.items():\n",
    "        dates_list.append(date)\n",
    "        i = 1 \n",
    "        sign = lambda a: (a>0) - (a<0)\n",
    "        while(abs(date_range)>0):\n",
    "            new_date = pd.to_datetime(date) + (sign(date_range) * timedelta(days=i))\n",
    "            dates_list.append(new_date.strftime(\"%Y-%m-%d\"))\n",
    "            i = i+1\n",
    "            date_range = date_range-(1*(sign (date_range)))\n",
    "           \n",
    "                    \n",
    "    return list(set(dates_list))\n",
    "\n",
    "\n",
    "\n",
    "date_list = to_dates_list({'2020-03-27':-1,'2020-02-14':1})\n",
    "date_list"
   ]
  },
  {
   "cell_type": "markdown",
   "metadata": {},
   "source": [
    "# Data Parsing Function"
   ]
  },
  {
   "cell_type": "code",
   "execution_count": 77,
   "metadata": {},
   "outputs": [],
   "source": [
    "file_path = 'sample_data.xlsx'\n",
    "file_path2 = 'latest/all_daily.csv'\n",
    "date_range_dict = {'2020-01-22':3}\n",
    "#date_range_dict = None\n"
   ]
  },
  {
   "cell_type": "code",
   "execution_count": 184,
   "metadata": {},
   "outputs": [],
   "source": [
    "\n",
    "\n",
    "def DataParser(file_path, date_range_dict, incubation_duration = 5, regions = {}, \\\n",
    "               attr_extract = None, _attr_date = 'date_ymd', _attr_region = 'Country_Region', \\\n",
    "               _attr_province = 'Province_State'):\n",
    "    \n",
    "    #logger initiation:\n",
    "    # create logger \n",
    "    logger = logging.getLogger('sample')\n",
    "    logger.setLevel(logging.INFO)\n",
    "    logger.propagate = False\n",
    "    # create file handler\n",
    "    fh = logging.FileHandler('dataparsing.log',mode='w')\n",
    "    fh.setLevel(logging.INFO)\n",
    "    # create formatter and add it to the handlers\n",
    "    formatter = logging.Formatter('%(asctime)s - %(name)s - %(levelname)s - %(message)s')\n",
    "    fh.setFormatter(formatter)    \n",
    "    logger.addHandler(fh)  \n",
    "    logger.info('Incubation date: {}'.format(incubation_duration))\n",
    "   \n",
    "               \n",
    "    #FileOpen - according to file extension\n",
    "    if file_path.endswith(\".xlsx\"):\n",
    "        xlsx = pd.ExcelFile(file_path)\n",
    "        df = pd.read_excel(xlsx)\n",
    "    elif file_path.endswith(\".csv\"):\n",
    "        df = pd.read_csv(file_path, parse_dates=[_attr_date])\n",
    "    \n",
    "    \n",
    "\n",
    "    #Region and Province Selection - if region parameter is not None, choose the region\n",
    "    df_extract = df\n",
    "    mask_prev =  [False]*len(df.index)\n",
    "    if regions != {}:\n",
    "        for region, provinces in regions.items():\n",
    "            \n",
    "            if (provinces == []) or (provinces == None) :\n",
    "                mask = mask_prev | (df_extract[_attr_region] == region ) \n",
    "                mask_prev = mask\n",
    "                continue\n",
    "            for province in provinces:\n",
    "                mask = mask_prev | ((df_extract[_attr_region] == region ) & (df_extract[_attr_province] == province)) \n",
    "                mask_prev = mask\n",
    "        df_extract = df.loc[mask]\n",
    "#         return df_extract\n",
    "    else:\n",
    "        df_extract = df\n",
    "    \n",
    "    \n",
    "    \n",
    "#     df_extract = df\n",
    "#     if region != None:\n",
    "# #         mask_prev = (df_extract[_attr_country] == None)\n",
    "#         mask_prev =  [False]*len(df.index)\n",
    "#         for reg in region:\n",
    "#             mask = mask_prev | (df_extract[_attr_region] == reg)  \n",
    "#             mask_prev = mask    \n",
    "#         df_extract = df.loc[mask]\n",
    "#     else:\n",
    "#         df_extract = df       \n",
    "    #ProvinceSelection - if province parameter is not None, choose the region\n",
    "#     if province != None:\n",
    "#         for prov in province:\n",
    "#             mask = mask_prev | (df_extract[_attr_province] == prov) \n",
    "#             mask_prev = mask    \n",
    "#         df_extract = df_extract.loc[mask]\n",
    "#     else:\n",
    "#         df_extract = df  \n",
    "    \n",
    "    \n",
    "    \n",
    "    #DateParsing - create a mask to choose the desired dates (According to list and incubation period)\n",
    "    df_final = pd.DataFrame() #creates a new dataframe that's empty\n",
    "    if date_range_dict != None:\n",
    "        date_list = to_dates_list(date_range_dict)\n",
    "        for date in date_list:\n",
    "            #get the incubation period of the date\n",
    "            curr_date_df = df_extract.loc[:,_attr_date: _attr_region]\n",
    "            end_date = (pd.to_datetime(date)-timedelta(days=incubation_duration)) \n",
    "            mask = (df_extract[_attr_date] >= end_date) & (df_extract[_attr_date] <= date)\n",
    "            incubation_df_extract = df_extract.loc[mask] #extracts the incubation period of the date\n",
    "\n",
    "#             att_df_final = incubation_df_extract.groupby([_attr_region,_attr_province],as_index=False).agg(attr_extract)\n",
    "            att_df_final = incubation_df_extract.groupby([_attr_region],as_index=False).agg(attr_extract)\n",
    "            att_df_final.insert(0,_attr_date,date,True)\n",
    "            df_final = df_final.append(att_df_final, ignore_index = False) # ignoring index is optional\n",
    "            df_final = df_final.sort_values(by=_attr_date)\n",
    "    else:\n",
    "#         df_final = df_extract.groupby(by=[_attr_region,_attr_province],as_index=False,dropna=False).agg(attr_extract)\n",
    "        df_final = df_extract.groupby(by=[_attr_region],as_index=False).agg(attr_extract) \n",
    "        df_final.insert(0,_attr_date,'ALL',True)\n",
    "#         df_final = df_final.append(att_df_final, ignore_index = True) # ignoring index is optional\n",
    "        \n",
    "    df_final.columns = df_final.columns.map('_'.join)\n",
    "    \n",
    "    return df_final"
   ]
  },
  {
   "cell_type": "code",
   "execution_count": 186,
   "metadata": {},
   "outputs": [
    {
     "data": {
      "text/plain": [
       "['date_', 'Country_Region_', 'Confirmed_max', 'Confirmed_min']"
      ]
     },
     "execution_count": 186,
     "metadata": {},
     "output_type": "execute_result"
    }
   ],
   "source": [
    "df = DataParser(file_path2, None, _attr_date = 'date',regions={'Argentina':[]}, \\\n",
    "                 attr_extract={'Confirmed':['max','min']})\n",
    "df\n",
    "\n",
    "# attr_extract={'confirmed_cases':['mean','min'],'mean_temp': ['max']} ,region=['Mainland China'], province = ['Anhui']"
   ]
  },
  {
   "cell_type": "code",
   "execution_count": null,
   "metadata": {},
   "outputs": [],
   "source": []
  }
 ],
 "metadata": {
  "kernelspec": {
   "display_name": "Python 3",
   "language": "python",
   "name": "python3"
  },
  "language_info": {
   "codemirror_mode": {
    "name": "ipython",
    "version": 3
   },
   "file_extension": ".py",
   "mimetype": "text/x-python",
   "name": "python",
   "nbconvert_exporter": "python",
   "pygments_lexer": "ipython3",
   "version": "3.8.3"
  }
 },
 "nbformat": 4,
 "nbformat_minor": 4
}
